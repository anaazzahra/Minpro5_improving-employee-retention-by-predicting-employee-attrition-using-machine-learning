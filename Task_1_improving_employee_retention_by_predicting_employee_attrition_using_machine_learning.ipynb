{
  "nbformat": 4,
  "nbformat_minor": 0,
  "metadata": {
    "colab": {
      "provenance": [],
      "authorship_tag": "ABX9TyMbNhhY5EsgSxMGUZLpFd+Y",
      "include_colab_link": true
    },
    "kernelspec": {
      "name": "python3",
      "display_name": "Python 3"
    },
    "language_info": {
      "name": "python"
    }
  },
  "cells": [
    {
      "cell_type": "markdown",
      "metadata": {
        "id": "view-in-github",
        "colab_type": "text"
      },
      "source": [
        "<a href=\"https://colab.research.google.com/github/anaazzahra/Minpro5_improving-employee-retention-by-predicting-employee-attrition-using-machine-learning/blob/main/Task_1_improving_employee_retention_by_predicting_employee_attrition_using_machine_learning.ipynb\" target=\"_parent\"><img src=\"https://colab.research.google.com/assets/colab-badge.svg\" alt=\"Open In Colab\"/></a>"
      ]
    },
    {
      "cell_type": "code",
      "execution_count": 1,
      "metadata": {
        "id": "nR4YSkXzibjG"
      },
      "outputs": [],
      "source": [
        "#Import Library\n",
        "\n",
        "import pandas as pd\n",
        "import numpy as np\n",
        "\n",
        "import matplotlib.pyplot as plt\n",
        "import seaborn as sns\n",
        "\n",
        "import scipy.stats as st\n",
        "import warnings\n",
        "warnings.simplefilter(action='ignore', category=FutureWarning)"
      ]
    },
    {
      "cell_type": "code",
      "source": [
        "#Connecting to data source\n",
        "from google.colab import drive\n",
        "drive.mount('/content/drive')"
      ],
      "metadata": {
        "colab": {
          "base_uri": "https://localhost:8080/"
        },
        "id": "OtbuaG-hkxr2",
        "outputId": "6018d23c-557e-43e2-b843-eac4afd5eb17"
      },
      "execution_count": 2,
      "outputs": [
        {
          "output_type": "stream",
          "name": "stdout",
          "text": [
            "Drive already mounted at /content/drive; to attempt to forcibly remount, call drive.mount(\"/content/drive\", force_remount=True).\n"
          ]
        }
      ]
    },
    {
      "cell_type": "code",
      "source": [
        "#Load data\n",
        "df = pd.read_excel('/content/drive/MyDrive/Rakamin Academy/DS JAP/miniproject/minpro 5/Improving Employee Retention by Predicting Employee Attrition Using Machine Learning.xlsx')"
      ],
      "metadata": {
        "id": "wsnduJ5ylJ6O"
      },
      "execution_count": 3,
      "outputs": []
    },
    {
      "cell_type": "code",
      "source": [
        "df.head(5)"
      ],
      "metadata": {
        "colab": {
          "base_uri": "https://localhost:8080/",
          "height": 429
        },
        "id": "YM5LWbutl5zX",
        "outputId": "d8a487f9-19c8-4ad5-ffcd-5a53a760a8c6"
      },
      "execution_count": 4,
      "outputs": [
        {
          "output_type": "execute_result",
          "data": {
            "text/plain": [
              "            Username  EnterpriseID StatusPernikahan JenisKelamin  \\\n",
              "0  spiritedPorpoise3        111065    Belum_menikah         Pria   \n",
              "1    jealousGelding2        106080    Belum_menikah         Pria   \n",
              "2      pluckyMuesli3        106452          Menikah         Pria   \n",
              "3   stressedTruffle1        106325    Belum_menikah         Pria   \n",
              "4        shyTermite7        111171    Belum_menikah       Wanita   \n",
              "\n",
              "  StatusKepegawaian                      Pekerjaan           JenjangKarir  \\\n",
              "0         Outsource   Software Engineer (Back End)  Freshgraduate_program   \n",
              "1          FullTime                   Data Analyst  Freshgraduate_program   \n",
              "2          FullTime  Software Engineer (Front End)  Freshgraduate_program   \n",
              "3         Outsource  Software Engineer (Front End)  Freshgraduate_program   \n",
              "4          FullTime                Product Manager  Freshgraduate_program   \n",
              "\n",
              "  PerformancePegawai     AsalDaerah     HiringPlatform  ...         NomorHP  \\\n",
              "0       Sangat_bagus  Jakarta Timur  Employee_Referral  ...  +6282232522xxx   \n",
              "1      Sangat_kurang  Jakarta Utara            Website  ...  +6281270745xxx   \n",
              "2              Bagus  Jakarta Timur             Indeed  ...  +6281346215xxx   \n",
              "3              Bagus  Jakarta Pusat           LinkedIn  ...  +6283233846xxx   \n",
              "4              Bagus  Jakarta Timur           LinkedIn  ...  +6287883263xxx   \n",
              "\n",
              "                             Email  TingkatPendidikan  PernahBekerja  \\\n",
              "0   spiritedPorpoise3135@yahoo.com           Magister              1   \n",
              "1     jealousGelding2239@yahoo.com            Sarjana              1   \n",
              "2      pluckyMuesli3961@icloud.com           Magister              1   \n",
              "3  stressedTruffle1406@hotmail.com            Sarjana              1   \n",
              "4         shyTermite7149@gmail.com            Sarjana              1   \n",
              "\n",
              "   IkutProgramLOP   AlasanResign TanggalLahir TanggalHiring  \\\n",
              "0             1.0  masih_bekerja   1972-07-01    2011-01-10   \n",
              "1             1.0  toxic_culture   1984-04-26    2014-01-06   \n",
              "2             1.0      jam_kerja   1974-01-07    2011-01-10   \n",
              "3             0.0  masih_bekerja   1979-11-24     2014-2-17   \n",
              "4             0.0    ganti_karir   1974-11-07    2013-11-11   \n",
              "\n",
              "  TanggalPenilaianKaryawan  TanggalResign  \n",
              "0                2016-2-15              -  \n",
              "1                2020-1-17      2018-6-16  \n",
              "2               2016-01-10      2014-9-24  \n",
              "3               2020-02-04              -  \n",
              "4                2020-1-22     2018-09-06  \n",
              "\n",
              "[5 rows x 25 columns]"
            ],
            "text/html": [
              "\n",
              "  <div id=\"df-4def011a-ed70-40c6-9c51-ee785f21fe68\" class=\"colab-df-container\">\n",
              "    <div>\n",
              "<style scoped>\n",
              "    .dataframe tbody tr th:only-of-type {\n",
              "        vertical-align: middle;\n",
              "    }\n",
              "\n",
              "    .dataframe tbody tr th {\n",
              "        vertical-align: top;\n",
              "    }\n",
              "\n",
              "    .dataframe thead th {\n",
              "        text-align: right;\n",
              "    }\n",
              "</style>\n",
              "<table border=\"1\" class=\"dataframe\">\n",
              "  <thead>\n",
              "    <tr style=\"text-align: right;\">\n",
              "      <th></th>\n",
              "      <th>Username</th>\n",
              "      <th>EnterpriseID</th>\n",
              "      <th>StatusPernikahan</th>\n",
              "      <th>JenisKelamin</th>\n",
              "      <th>StatusKepegawaian</th>\n",
              "      <th>Pekerjaan</th>\n",
              "      <th>JenjangKarir</th>\n",
              "      <th>PerformancePegawai</th>\n",
              "      <th>AsalDaerah</th>\n",
              "      <th>HiringPlatform</th>\n",
              "      <th>...</th>\n",
              "      <th>NomorHP</th>\n",
              "      <th>Email</th>\n",
              "      <th>TingkatPendidikan</th>\n",
              "      <th>PernahBekerja</th>\n",
              "      <th>IkutProgramLOP</th>\n",
              "      <th>AlasanResign</th>\n",
              "      <th>TanggalLahir</th>\n",
              "      <th>TanggalHiring</th>\n",
              "      <th>TanggalPenilaianKaryawan</th>\n",
              "      <th>TanggalResign</th>\n",
              "    </tr>\n",
              "  </thead>\n",
              "  <tbody>\n",
              "    <tr>\n",
              "      <th>0</th>\n",
              "      <td>spiritedPorpoise3</td>\n",
              "      <td>111065</td>\n",
              "      <td>Belum_menikah</td>\n",
              "      <td>Pria</td>\n",
              "      <td>Outsource</td>\n",
              "      <td>Software Engineer (Back End)</td>\n",
              "      <td>Freshgraduate_program</td>\n",
              "      <td>Sangat_bagus</td>\n",
              "      <td>Jakarta Timur</td>\n",
              "      <td>Employee_Referral</td>\n",
              "      <td>...</td>\n",
              "      <td>+6282232522xxx</td>\n",
              "      <td>spiritedPorpoise3135@yahoo.com</td>\n",
              "      <td>Magister</td>\n",
              "      <td>1</td>\n",
              "      <td>1.0</td>\n",
              "      <td>masih_bekerja</td>\n",
              "      <td>1972-07-01</td>\n",
              "      <td>2011-01-10</td>\n",
              "      <td>2016-2-15</td>\n",
              "      <td>-</td>\n",
              "    </tr>\n",
              "    <tr>\n",
              "      <th>1</th>\n",
              "      <td>jealousGelding2</td>\n",
              "      <td>106080</td>\n",
              "      <td>Belum_menikah</td>\n",
              "      <td>Pria</td>\n",
              "      <td>FullTime</td>\n",
              "      <td>Data Analyst</td>\n",
              "      <td>Freshgraduate_program</td>\n",
              "      <td>Sangat_kurang</td>\n",
              "      <td>Jakarta Utara</td>\n",
              "      <td>Website</td>\n",
              "      <td>...</td>\n",
              "      <td>+6281270745xxx</td>\n",
              "      <td>jealousGelding2239@yahoo.com</td>\n",
              "      <td>Sarjana</td>\n",
              "      <td>1</td>\n",
              "      <td>1.0</td>\n",
              "      <td>toxic_culture</td>\n",
              "      <td>1984-04-26</td>\n",
              "      <td>2014-01-06</td>\n",
              "      <td>2020-1-17</td>\n",
              "      <td>2018-6-16</td>\n",
              "    </tr>\n",
              "    <tr>\n",
              "      <th>2</th>\n",
              "      <td>pluckyMuesli3</td>\n",
              "      <td>106452</td>\n",
              "      <td>Menikah</td>\n",
              "      <td>Pria</td>\n",
              "      <td>FullTime</td>\n",
              "      <td>Software Engineer (Front End)</td>\n",
              "      <td>Freshgraduate_program</td>\n",
              "      <td>Bagus</td>\n",
              "      <td>Jakarta Timur</td>\n",
              "      <td>Indeed</td>\n",
              "      <td>...</td>\n",
              "      <td>+6281346215xxx</td>\n",
              "      <td>pluckyMuesli3961@icloud.com</td>\n",
              "      <td>Magister</td>\n",
              "      <td>1</td>\n",
              "      <td>1.0</td>\n",
              "      <td>jam_kerja</td>\n",
              "      <td>1974-01-07</td>\n",
              "      <td>2011-01-10</td>\n",
              "      <td>2016-01-10</td>\n",
              "      <td>2014-9-24</td>\n",
              "    </tr>\n",
              "    <tr>\n",
              "      <th>3</th>\n",
              "      <td>stressedTruffle1</td>\n",
              "      <td>106325</td>\n",
              "      <td>Belum_menikah</td>\n",
              "      <td>Pria</td>\n",
              "      <td>Outsource</td>\n",
              "      <td>Software Engineer (Front End)</td>\n",
              "      <td>Freshgraduate_program</td>\n",
              "      <td>Bagus</td>\n",
              "      <td>Jakarta Pusat</td>\n",
              "      <td>LinkedIn</td>\n",
              "      <td>...</td>\n",
              "      <td>+6283233846xxx</td>\n",
              "      <td>stressedTruffle1406@hotmail.com</td>\n",
              "      <td>Sarjana</td>\n",
              "      <td>1</td>\n",
              "      <td>0.0</td>\n",
              "      <td>masih_bekerja</td>\n",
              "      <td>1979-11-24</td>\n",
              "      <td>2014-2-17</td>\n",
              "      <td>2020-02-04</td>\n",
              "      <td>-</td>\n",
              "    </tr>\n",
              "    <tr>\n",
              "      <th>4</th>\n",
              "      <td>shyTermite7</td>\n",
              "      <td>111171</td>\n",
              "      <td>Belum_menikah</td>\n",
              "      <td>Wanita</td>\n",
              "      <td>FullTime</td>\n",
              "      <td>Product Manager</td>\n",
              "      <td>Freshgraduate_program</td>\n",
              "      <td>Bagus</td>\n",
              "      <td>Jakarta Timur</td>\n",
              "      <td>LinkedIn</td>\n",
              "      <td>...</td>\n",
              "      <td>+6287883263xxx</td>\n",
              "      <td>shyTermite7149@gmail.com</td>\n",
              "      <td>Sarjana</td>\n",
              "      <td>1</td>\n",
              "      <td>0.0</td>\n",
              "      <td>ganti_karir</td>\n",
              "      <td>1974-11-07</td>\n",
              "      <td>2013-11-11</td>\n",
              "      <td>2020-1-22</td>\n",
              "      <td>2018-09-06</td>\n",
              "    </tr>\n",
              "  </tbody>\n",
              "</table>\n",
              "<p>5 rows × 25 columns</p>\n",
              "</div>\n",
              "    <div class=\"colab-df-buttons\">\n",
              "\n",
              "  <div class=\"colab-df-container\">\n",
              "    <button class=\"colab-df-convert\" onclick=\"convertToInteractive('df-4def011a-ed70-40c6-9c51-ee785f21fe68')\"\n",
              "            title=\"Convert this dataframe to an interactive table.\"\n",
              "            style=\"display:none;\">\n",
              "\n",
              "  <svg xmlns=\"http://www.w3.org/2000/svg\" height=\"24px\" viewBox=\"0 -960 960 960\">\n",
              "    <path d=\"M120-120v-720h720v720H120Zm60-500h600v-160H180v160Zm220 220h160v-160H400v160Zm0 220h160v-160H400v160ZM180-400h160v-160H180v160Zm440 0h160v-160H620v160ZM180-180h160v-160H180v160Zm440 0h160v-160H620v160Z\"/>\n",
              "  </svg>\n",
              "    </button>\n",
              "\n",
              "  <style>\n",
              "    .colab-df-container {\n",
              "      display:flex;\n",
              "      gap: 12px;\n",
              "    }\n",
              "\n",
              "    .colab-df-convert {\n",
              "      background-color: #E8F0FE;\n",
              "      border: none;\n",
              "      border-radius: 50%;\n",
              "      cursor: pointer;\n",
              "      display: none;\n",
              "      fill: #1967D2;\n",
              "      height: 32px;\n",
              "      padding: 0 0 0 0;\n",
              "      width: 32px;\n",
              "    }\n",
              "\n",
              "    .colab-df-convert:hover {\n",
              "      background-color: #E2EBFA;\n",
              "      box-shadow: 0px 1px 2px rgba(60, 64, 67, 0.3), 0px 1px 3px 1px rgba(60, 64, 67, 0.15);\n",
              "      fill: #174EA6;\n",
              "    }\n",
              "\n",
              "    .colab-df-buttons div {\n",
              "      margin-bottom: 4px;\n",
              "    }\n",
              "\n",
              "    [theme=dark] .colab-df-convert {\n",
              "      background-color: #3B4455;\n",
              "      fill: #D2E3FC;\n",
              "    }\n",
              "\n",
              "    [theme=dark] .colab-df-convert:hover {\n",
              "      background-color: #434B5C;\n",
              "      box-shadow: 0px 1px 3px 1px rgba(0, 0, 0, 0.15);\n",
              "      filter: drop-shadow(0px 1px 2px rgba(0, 0, 0, 0.3));\n",
              "      fill: #FFFFFF;\n",
              "    }\n",
              "  </style>\n",
              "\n",
              "    <script>\n",
              "      const buttonEl =\n",
              "        document.querySelector('#df-4def011a-ed70-40c6-9c51-ee785f21fe68 button.colab-df-convert');\n",
              "      buttonEl.style.display =\n",
              "        google.colab.kernel.accessAllowed ? 'block' : 'none';\n",
              "\n",
              "      async function convertToInteractive(key) {\n",
              "        const element = document.querySelector('#df-4def011a-ed70-40c6-9c51-ee785f21fe68');\n",
              "        const dataTable =\n",
              "          await google.colab.kernel.invokeFunction('convertToInteractive',\n",
              "                                                    [key], {});\n",
              "        if (!dataTable) return;\n",
              "\n",
              "        const docLinkHtml = 'Like what you see? Visit the ' +\n",
              "          '<a target=\"_blank\" href=https://colab.research.google.com/notebooks/data_table.ipynb>data table notebook</a>'\n",
              "          + ' to learn more about interactive tables.';\n",
              "        element.innerHTML = '';\n",
              "        dataTable['output_type'] = 'display_data';\n",
              "        await google.colab.output.renderOutput(dataTable, element);\n",
              "        const docLink = document.createElement('div');\n",
              "        docLink.innerHTML = docLinkHtml;\n",
              "        element.appendChild(docLink);\n",
              "      }\n",
              "    </script>\n",
              "  </div>\n",
              "\n",
              "\n",
              "<div id=\"df-b2c8ddc2-7882-4723-901d-4cf2f57aafc3\">\n",
              "  <button class=\"colab-df-quickchart\" onclick=\"quickchart('df-b2c8ddc2-7882-4723-901d-4cf2f57aafc3')\"\n",
              "            title=\"Suggest charts\"\n",
              "            style=\"display:none;\">\n",
              "\n",
              "<svg xmlns=\"http://www.w3.org/2000/svg\" height=\"24px\"viewBox=\"0 0 24 24\"\n",
              "     width=\"24px\">\n",
              "    <g>\n",
              "        <path d=\"M19 3H5c-1.1 0-2 .9-2 2v14c0 1.1.9 2 2 2h14c1.1 0 2-.9 2-2V5c0-1.1-.9-2-2-2zM9 17H7v-7h2v7zm4 0h-2V7h2v10zm4 0h-2v-4h2v4z\"/>\n",
              "    </g>\n",
              "</svg>\n",
              "  </button>\n",
              "\n",
              "<style>\n",
              "  .colab-df-quickchart {\n",
              "      --bg-color: #E8F0FE;\n",
              "      --fill-color: #1967D2;\n",
              "      --hover-bg-color: #E2EBFA;\n",
              "      --hover-fill-color: #174EA6;\n",
              "      --disabled-fill-color: #AAA;\n",
              "      --disabled-bg-color: #DDD;\n",
              "  }\n",
              "\n",
              "  [theme=dark] .colab-df-quickchart {\n",
              "      --bg-color: #3B4455;\n",
              "      --fill-color: #D2E3FC;\n",
              "      --hover-bg-color: #434B5C;\n",
              "      --hover-fill-color: #FFFFFF;\n",
              "      --disabled-bg-color: #3B4455;\n",
              "      --disabled-fill-color: #666;\n",
              "  }\n",
              "\n",
              "  .colab-df-quickchart {\n",
              "    background-color: var(--bg-color);\n",
              "    border: none;\n",
              "    border-radius: 50%;\n",
              "    cursor: pointer;\n",
              "    display: none;\n",
              "    fill: var(--fill-color);\n",
              "    height: 32px;\n",
              "    padding: 0;\n",
              "    width: 32px;\n",
              "  }\n",
              "\n",
              "  .colab-df-quickchart:hover {\n",
              "    background-color: var(--hover-bg-color);\n",
              "    box-shadow: 0 1px 2px rgba(60, 64, 67, 0.3), 0 1px 3px 1px rgba(60, 64, 67, 0.15);\n",
              "    fill: var(--button-hover-fill-color);\n",
              "  }\n",
              "\n",
              "  .colab-df-quickchart-complete:disabled,\n",
              "  .colab-df-quickchart-complete:disabled:hover {\n",
              "    background-color: var(--disabled-bg-color);\n",
              "    fill: var(--disabled-fill-color);\n",
              "    box-shadow: none;\n",
              "  }\n",
              "\n",
              "  .colab-df-spinner {\n",
              "    border: 2px solid var(--fill-color);\n",
              "    border-color: transparent;\n",
              "    border-bottom-color: var(--fill-color);\n",
              "    animation:\n",
              "      spin 1s steps(1) infinite;\n",
              "  }\n",
              "\n",
              "  @keyframes spin {\n",
              "    0% {\n",
              "      border-color: transparent;\n",
              "      border-bottom-color: var(--fill-color);\n",
              "      border-left-color: var(--fill-color);\n",
              "    }\n",
              "    20% {\n",
              "      border-color: transparent;\n",
              "      border-left-color: var(--fill-color);\n",
              "      border-top-color: var(--fill-color);\n",
              "    }\n",
              "    30% {\n",
              "      border-color: transparent;\n",
              "      border-left-color: var(--fill-color);\n",
              "      border-top-color: var(--fill-color);\n",
              "      border-right-color: var(--fill-color);\n",
              "    }\n",
              "    40% {\n",
              "      border-color: transparent;\n",
              "      border-right-color: var(--fill-color);\n",
              "      border-top-color: var(--fill-color);\n",
              "    }\n",
              "    60% {\n",
              "      border-color: transparent;\n",
              "      border-right-color: var(--fill-color);\n",
              "    }\n",
              "    80% {\n",
              "      border-color: transparent;\n",
              "      border-right-color: var(--fill-color);\n",
              "      border-bottom-color: var(--fill-color);\n",
              "    }\n",
              "    90% {\n",
              "      border-color: transparent;\n",
              "      border-bottom-color: var(--fill-color);\n",
              "    }\n",
              "  }\n",
              "</style>\n",
              "\n",
              "  <script>\n",
              "    async function quickchart(key) {\n",
              "      const quickchartButtonEl =\n",
              "        document.querySelector('#' + key + ' button');\n",
              "      quickchartButtonEl.disabled = true;  // To prevent multiple clicks.\n",
              "      quickchartButtonEl.classList.add('colab-df-spinner');\n",
              "      try {\n",
              "        const charts = await google.colab.kernel.invokeFunction(\n",
              "            'suggestCharts', [key], {});\n",
              "      } catch (error) {\n",
              "        console.error('Error during call to suggestCharts:', error);\n",
              "      }\n",
              "      quickchartButtonEl.classList.remove('colab-df-spinner');\n",
              "      quickchartButtonEl.classList.add('colab-df-quickchart-complete');\n",
              "    }\n",
              "    (() => {\n",
              "      let quickchartButtonEl =\n",
              "        document.querySelector('#df-b2c8ddc2-7882-4723-901d-4cf2f57aafc3 button');\n",
              "      quickchartButtonEl.style.display =\n",
              "        google.colab.kernel.accessAllowed ? 'block' : 'none';\n",
              "    })();\n",
              "  </script>\n",
              "</div>\n",
              "\n",
              "    </div>\n",
              "  </div>\n"
            ],
            "application/vnd.google.colaboratory.intrinsic+json": {
              "type": "dataframe",
              "variable_name": "df"
            }
          },
          "metadata": {},
          "execution_count": 4
        }
      ]
    },
    {
      "cell_type": "markdown",
      "source": [
        "# **Task 1: Data Preprocessing**"
      ],
      "metadata": {
        "id": "Ta1kmhfFmhKR"
      }
    },
    {
      "cell_type": "code",
      "source": [
        "df.info()"
      ],
      "metadata": {
        "colab": {
          "base_uri": "https://localhost:8080/"
        },
        "id": "XdF_AJW1mqE5",
        "outputId": "5366ecc4-9ec6-4022-a8f0-502a08371787"
      },
      "execution_count": 5,
      "outputs": [
        {
          "output_type": "stream",
          "name": "stdout",
          "text": [
            "<class 'pandas.core.frame.DataFrame'>\n",
            "RangeIndex: 287 entries, 0 to 286\n",
            "Data columns (total 25 columns):\n",
            " #   Column                              Non-Null Count  Dtype  \n",
            "---  ------                              --------------  -----  \n",
            " 0   Username                            287 non-null    object \n",
            " 1   EnterpriseID                        287 non-null    int64  \n",
            " 2   StatusPernikahan                    287 non-null    object \n",
            " 3   JenisKelamin                        287 non-null    object \n",
            " 4   StatusKepegawaian                   287 non-null    object \n",
            " 5   Pekerjaan                           287 non-null    object \n",
            " 6   JenjangKarir                        287 non-null    object \n",
            " 7   PerformancePegawai                  287 non-null    object \n",
            " 8   AsalDaerah                          287 non-null    object \n",
            " 9   HiringPlatform                      287 non-null    object \n",
            " 10  SkorSurveyEngagement                287 non-null    int64  \n",
            " 11  SkorKepuasanPegawai                 282 non-null    float64\n",
            " 12  JumlahKeikutsertaanProjek           284 non-null    float64\n",
            " 13  JumlahKeterlambatanSebulanTerakhir  286 non-null    float64\n",
            " 14  JumlahKetidakhadiran                281 non-null    float64\n",
            " 15  NomorHP                             287 non-null    object \n",
            " 16  Email                               287 non-null    object \n",
            " 17  TingkatPendidikan                   287 non-null    object \n",
            " 18  PernahBekerja                       287 non-null    object \n",
            " 19  IkutProgramLOP                      29 non-null     float64\n",
            " 20  AlasanResign                        221 non-null    object \n",
            " 21  TanggalLahir                        287 non-null    object \n",
            " 22  TanggalHiring                       287 non-null    object \n",
            " 23  TanggalPenilaianKaryawan            287 non-null    object \n",
            " 24  TanggalResign                       287 non-null    object \n",
            "dtypes: float64(5), int64(2), object(18)\n",
            "memory usage: 56.2+ KB\n"
          ]
        }
      ]
    },
    {
      "cell_type": "markdown",
      "source": [
        "## **Changing Data Type**"
      ],
      "metadata": {
        "id": "CIaUlnvu2byy"
      }
    },
    {
      "cell_type": "code",
      "source": [
        "df['TanggalResign'] = df['TanggalResign'].replace('-', np.nan) #replace '-' with NaN"
      ],
      "metadata": {
        "id": "nonqQiUWyRLa"
      },
      "execution_count": 6,
      "outputs": []
    },
    {
      "cell_type": "code",
      "source": [
        "#Change 'TanggalLahir', 'TanggalHiring', 'TanggalPenilaianKaryawan', 'TanggalResign' to datetime\n",
        "\n",
        "from datetime import datetime\n",
        "\n",
        "date_col = ['TanggalLahir', 'TanggalHiring', 'TanggalPenilaianKaryawan', 'TanggalResign']\n",
        "for col in date_col:\n",
        "  df[col]=pd.to_datetime(df[col])"
      ],
      "metadata": {
        "id": "Etqvxz_QxA0m"
      },
      "execution_count": 7,
      "outputs": []
    },
    {
      "cell_type": "code",
      "source": [
        "#Changing Value of 'PernahBekerja'\n",
        "df['PernahBekerja'].unique()"
      ],
      "metadata": {
        "colab": {
          "base_uri": "https://localhost:8080/"
        },
        "id": "j2ofmrOsyyDT",
        "outputId": "c2ecf314-e225-414c-eebe-476a6d1e5a42"
      },
      "execution_count": 8,
      "outputs": [
        {
          "output_type": "execute_result",
          "data": {
            "text/plain": [
              "array([1, 'yes'], dtype=object)"
            ]
          },
          "metadata": {},
          "execution_count": 8
        }
      ]
    },
    {
      "cell_type": "code",
      "source": [
        "df['PernahBekerja'] = df['PernahBekerja'].replace({1: 'yes'}) #becausfe of 1 and 'yes' indicates similar meaning, so enough use value 'yes'"
      ],
      "metadata": {
        "id": "fvT-cSYM1fRE"
      },
      "execution_count": 9,
      "outputs": []
    },
    {
      "cell_type": "code",
      "source": [
        "print(df['PernahBekerja'].unique())"
      ],
      "metadata": {
        "colab": {
          "base_uri": "https://localhost:8080/"
        },
        "id": "kT3fz5F01zWs",
        "outputId": "908ec9af-5e4b-4824-f73e-bb33730dfd26"
      },
      "execution_count": 10,
      "outputs": [
        {
          "output_type": "stream",
          "name": "stdout",
          "text": [
            "['yes']\n"
          ]
        }
      ]
    },
    {
      "cell_type": "code",
      "source": [
        "df.info()"
      ],
      "metadata": {
        "colab": {
          "base_uri": "https://localhost:8080/"
        },
        "id": "7EjUG-Ki17iA",
        "outputId": "9d818e7f-7c36-4aa5-fdd8-2697e15c0699"
      },
      "execution_count": 11,
      "outputs": [
        {
          "output_type": "stream",
          "name": "stdout",
          "text": [
            "<class 'pandas.core.frame.DataFrame'>\n",
            "RangeIndex: 287 entries, 0 to 286\n",
            "Data columns (total 25 columns):\n",
            " #   Column                              Non-Null Count  Dtype         \n",
            "---  ------                              --------------  -----         \n",
            " 0   Username                            287 non-null    object        \n",
            " 1   EnterpriseID                        287 non-null    int64         \n",
            " 2   StatusPernikahan                    287 non-null    object        \n",
            " 3   JenisKelamin                        287 non-null    object        \n",
            " 4   StatusKepegawaian                   287 non-null    object        \n",
            " 5   Pekerjaan                           287 non-null    object        \n",
            " 6   JenjangKarir                        287 non-null    object        \n",
            " 7   PerformancePegawai                  287 non-null    object        \n",
            " 8   AsalDaerah                          287 non-null    object        \n",
            " 9   HiringPlatform                      287 non-null    object        \n",
            " 10  SkorSurveyEngagement                287 non-null    int64         \n",
            " 11  SkorKepuasanPegawai                 282 non-null    float64       \n",
            " 12  JumlahKeikutsertaanProjek           284 non-null    float64       \n",
            " 13  JumlahKeterlambatanSebulanTerakhir  286 non-null    float64       \n",
            " 14  JumlahKetidakhadiran                281 non-null    float64       \n",
            " 15  NomorHP                             287 non-null    object        \n",
            " 16  Email                               287 non-null    object        \n",
            " 17  TingkatPendidikan                   287 non-null    object        \n",
            " 18  PernahBekerja                       287 non-null    object        \n",
            " 19  IkutProgramLOP                      29 non-null     float64       \n",
            " 20  AlasanResign                        221 non-null    object        \n",
            " 21  TanggalLahir                        287 non-null    datetime64[ns]\n",
            " 22  TanggalHiring                       287 non-null    datetime64[ns]\n",
            " 23  TanggalPenilaianKaryawan            287 non-null    datetime64[ns]\n",
            " 24  TanggalResign                       89 non-null     datetime64[ns]\n",
            "dtypes: datetime64[ns](4), float64(5), int64(2), object(14)\n",
            "memory usage: 56.2+ KB\n"
          ]
        }
      ]
    },
    {
      "cell_type": "markdown",
      "source": [
        "## **Checking Unique Value Each Column**"
      ],
      "metadata": {
        "id": "_4anm4LC2kcm"
      }
    },
    {
      "cell_type": "code",
      "source": [
        "unique_value_columns = df.nunique()\n",
        "single_value_columns = unique_value_columns[unique_value_columns == 1].index.tolist()"
      ],
      "metadata": {
        "id": "ACdLD3rV4eTx"
      },
      "execution_count": 13,
      "outputs": []
    },
    {
      "cell_type": "code",
      "source": [
        "print(f\"Column with only one unique value: {single_value_columns}\")"
      ],
      "metadata": {
        "colab": {
          "base_uri": "https://localhost:8080/"
        },
        "id": "wfuXdx674f7N",
        "outputId": "7eaa3057-7d5e-4427-ca0b-4a0428a819b3"
      },
      "execution_count": 14,
      "outputs": [
        {
          "output_type": "stream",
          "name": "stdout",
          "text": [
            "Column with only one unique value: ['PernahBekerja']\n"
          ]
        }
      ]
    },
    {
      "cell_type": "code",
      "source": [
        "#Drop 'PernahBekerja'\n",
        "df.drop(['PernahBekerja'], axis=1, inplace=True)"
      ],
      "metadata": {
        "id": "nkUgYyuM4xRM"
      },
      "execution_count": 15,
      "outputs": []
    },
    {
      "cell_type": "markdown",
      "source": [
        "## **Checking Null and Duplicated Data**"
      ],
      "metadata": {
        "id": "0dFQAS0R5VUe"
      }
    },
    {
      "cell_type": "code",
      "source": [
        "#Missing Value\n",
        "df.isnull().sum()"
      ],
      "metadata": {
        "colab": {
          "base_uri": "https://localhost:8080/"
        },
        "id": "Sx4JaiIX5nRH",
        "outputId": "b73b49fa-e0c9-4067-9639-10e41e357779"
      },
      "execution_count": 16,
      "outputs": [
        {
          "output_type": "execute_result",
          "data": {
            "text/plain": [
              "Username                                0\n",
              "EnterpriseID                            0\n",
              "StatusPernikahan                        0\n",
              "JenisKelamin                            0\n",
              "StatusKepegawaian                       0\n",
              "Pekerjaan                               0\n",
              "JenjangKarir                            0\n",
              "PerformancePegawai                      0\n",
              "AsalDaerah                              0\n",
              "HiringPlatform                          0\n",
              "SkorSurveyEngagement                    0\n",
              "SkorKepuasanPegawai                     5\n",
              "JumlahKeikutsertaanProjek               3\n",
              "JumlahKeterlambatanSebulanTerakhir      1\n",
              "JumlahKetidakhadiran                    6\n",
              "NomorHP                                 0\n",
              "Email                                   0\n",
              "TingkatPendidikan                       0\n",
              "IkutProgramLOP                        258\n",
              "AlasanResign                           66\n",
              "TanggalLahir                            0\n",
              "TanggalHiring                           0\n",
              "TanggalPenilaianKaryawan                0\n",
              "TanggalResign                         198\n",
              "dtype: int64"
            ]
          },
          "metadata": {},
          "execution_count": 16
        }
      ]
    },
    {
      "cell_type": "code",
      "source": [
        "#Handling missing value\n",
        "num = ['SkorKepuasanPegawai', 'JumlahKeikutsertaanProjek', 'JumlahKeterlambatanSebulanTerakhir', 'JumlahKetidakhadiran']\n",
        "for column in num:\n",
        "  median_value = df[column].median()\n",
        "  df[column].fillna(median_value, inplace = True)"
      ],
      "metadata": {
        "id": "VjBR4CUU7CG7"
      },
      "execution_count": 24,
      "outputs": []
    },
    {
      "cell_type": "code",
      "source": [
        "#Categorical Value\n",
        "df['AlasanResign'].fillna(df['AlasanResign'].mode()[0], inplace=True)"
      ],
      "metadata": {
        "id": "cFdYb-9XJDcu"
      },
      "execution_count": 19,
      "outputs": []
    },
    {
      "cell_type": "code",
      "source": [
        "#deleting 'IkutProgramLOP' because lot of missing value\n",
        "df.drop(['IkutProgramLOP'], axis=1, inplace=True)"
      ],
      "metadata": {
        "id": "U_VH6mBWJLtl"
      },
      "execution_count": 20,
      "outputs": []
    },
    {
      "cell_type": "code",
      "source": [
        "#for column 'TanggalResign'\n",
        "df['TanggalResign'].fillna(pd.NaT, inplace=True)"
      ],
      "metadata": {
        "id": "JE0lyzASJfP2"
      },
      "execution_count": 23,
      "outputs": []
    },
    {
      "cell_type": "code",
      "source": [
        "df.isnull().sum()"
      ],
      "metadata": {
        "colab": {
          "base_uri": "https://localhost:8080/"
        },
        "id": "s3AFe-epJvJv",
        "outputId": "7aaa04c7-4c0b-4d8c-c2f6-d548619f6834"
      },
      "execution_count": 25,
      "outputs": [
        {
          "output_type": "execute_result",
          "data": {
            "text/plain": [
              "Username                                0\n",
              "EnterpriseID                            0\n",
              "StatusPernikahan                        0\n",
              "JenisKelamin                            0\n",
              "StatusKepegawaian                       0\n",
              "Pekerjaan                               0\n",
              "JenjangKarir                            0\n",
              "PerformancePegawai                      0\n",
              "AsalDaerah                              0\n",
              "HiringPlatform                          0\n",
              "SkorSurveyEngagement                    0\n",
              "SkorKepuasanPegawai                     0\n",
              "JumlahKeikutsertaanProjek               0\n",
              "JumlahKeterlambatanSebulanTerakhir      0\n",
              "JumlahKetidakhadiran                    0\n",
              "NomorHP                                 0\n",
              "Email                                   0\n",
              "TingkatPendidikan                       0\n",
              "AlasanResign                            0\n",
              "TanggalLahir                            0\n",
              "TanggalHiring                           0\n",
              "TanggalPenilaianKaryawan                0\n",
              "TanggalResign                         198\n",
              "dtype: int64"
            ]
          },
          "metadata": {},
          "execution_count": 25
        }
      ]
    },
    {
      "cell_type": "code",
      "source": [
        "#Duplicated data\n",
        "df.duplicated().sum()"
      ],
      "metadata": {
        "colab": {
          "base_uri": "https://localhost:8080/"
        },
        "id": "1XvSpx0FKjFx",
        "outputId": "28b334d1-719a-4a92-8871-5dc386978227"
      },
      "execution_count": 26,
      "outputs": [
        {
          "output_type": "execute_result",
          "data": {
            "text/plain": [
              "0"
            ]
          },
          "metadata": {},
          "execution_count": 26
        }
      ]
    }
  ]
}